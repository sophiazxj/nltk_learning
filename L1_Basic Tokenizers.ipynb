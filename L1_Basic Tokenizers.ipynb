{
 "cells": [
  {
   "cell_type": "markdown",
   "metadata": {},
   "source": [
    "## UK Government Content Writing Criteria\n",
    "\n",
    "UK Government has a certain checklist for the content writers. They want the content writers to be more specific in the details they want to convey to the users. UK Government basically believes that when you write more people understand less. So they came up with a simple solution.\n",
    "\n",
    "- There can be no more than 15 Sentences.\n",
    "- And each sentence should have less than 15 words.\n",
    "- And each word should be less than 15 letters.\n",
    "\n",
    "Help the UK Government writing a detector which checks for the above criteria.\n",
    "\n",
    "Write three seperate detectors so that the content writer knows where exactly did he make the mistake\n",
    "\n",
    "So here is Mr. James Wilson who wrote about Elon Musk. Here is the following content.\n",
    "\n",
    ">Musk was born on June 28, 1971, in Pretoria, Gauteng, South Africa,[27] the son of Maye Musk (née Haldeman), a model and dietician from Regina, Saskatchewan, Canada;[28] and Errol Musk, a South African electromechanical engineer, pilot and sailor. He has a younger brother, Kimbal (born 1972), and a younger sister, Tosca (born 1974).[28][29][30][31] His paternal grandmother was British, and he also has Pennsylvania Dutch ancestry,[32][33] and his maternal grandfather was American, from Minnesota.[34] After his parents divorced in 1980, Musk lived mostly with his father in the suburbs of Pretoria.[32]\n",
    "\n",
    ">During his childhood he had an interest in reading and often did so for hours at a time.[35]\n",
    "\n",
    ">At What age did Musk got interested in computing? At age 10, he developed an interest in computing with the Commodore VIC-20.[36] He taught himself computer programming at the age of 12, sold the code for a BASIC-based video game he created called Blastar, to a magazine called PC and Office Technology, for approximately $500. [37][38] A web version of the game is available online.[37][39]\n",
    "\n",
    "Musk was severely bullied throughout his childhood, and was once hospitalized when a group of boys threw him down a flight of stairs and then beat him until he lost consciousness.[40]\n",
    "\n",
    "Musk was initially educated at private schools, attending the English-speaking Waterkloof House Preparatory School. \n",
    "\n",
    "Mr. Singh helped Musk during his initial days when he was severely bullied during his childhood.\n",
    "\n",
    "Musk later graduated from Pretoria Boys High School and moved to Canada in June 1989, just before his 18th birthday,[41] after obtaining Canadian citizenship through his Canadian-born mother.[42][43] Although at the time Musk had to register to become a Canadian citizen, Bill C-37, which came into law in April of 2009, effectively made his Canadian citizenship retroactive to his birth since he was born in the first generation abroad to a Canadian-born mother. Therefore, with the law change, he is considered to have always been a Canadian citizen by birth."
   ]
  },
  {
   "cell_type": "code",
   "execution_count": 1,
   "metadata": {
    "collapsed": true
   },
   "outputs": [],
   "source": [
    "import nltk\n",
    "from nltk.tokenize import word_tokenize, sent_tokenize, PunktSentenceTokenizer, RegexpTokenizer"
   ]
  },
  {
   "cell_type": "code",
   "execution_count": 19,
   "metadata": {
    "collapsed": true
   },
   "outputs": [],
   "source": [
    "sample_data = '''Musk was born on June 28, 1971, in Pretoria, Gauteng, South Africa,[27] the son of Maye Musk (née Haldeman), a model and dietician from Regina, Saskatchewan, Canada;[28] and Errol Musk, a South African electromechanical engineer, pilot and sailor. He has a younger brother, Kimbal (born 1972), and a younger sister, Tosca (born 1974).[28][29][30][31] His paternal grandmother was British, and he also has Pennsylvania Dutch ancestry,[32][33] and his maternal grandfather was American, from Minnesota.[34] After his parents divorced in 1980, Musk lived mostly with his father in the suburbs of Pretoria.[32]During his childhood he had an interest in reading and often did so for hours at a time.[35]\n",
    "\n",
    "At What age did Musk got interested in computing? At age 10, he developed an interest in computing with the Commodore VIC-20.[36] He taught himself computer programming at the age of 12, sold the code for a BASIC-based video game he created called Blastar, to a magazine called PC and Office Technology, for approximately $500. [37][38] A web version of the game is available online.[37][39]\n",
    "\n",
    "Musk was severely bullied throughout his childhood, and was once hospitalized when a group of boys threw him down a flight of stairs and then beat him until he lost consciousness.[40]\n",
    "\n",
    "Musk was initially educated at private schools, attending the English-speaking Waterkloof House Preparatory School. \n",
    "\n",
    "Mr. Singh helped Musk during his initial days when he was severely bullied during his childhood.\n",
    "\n",
    "Musk later graduated from Pretoria Boys High School and moved to Canada in June 1989, just before his 18th birthday,[41] after obtaining Canadian citizenship through his Canadian-born mother.[42][43] Although at the time Musk had to register to become a Canadian citizen, Bill C-37, which came into law in April of 2009, effectively made his Canadian citizenship retroactive to his birth since he was born in the first generation abroad to a Canadian-born mother. Therefore, with the law change, he is considered to have always been a Canadian citizen by birth.'''"
   ]
  },
  {
   "cell_type": "code",
   "execution_count": 20,
   "metadata": {
    "collapsed": true
   },
   "outputs": [],
   "source": [
    "# Function to detect first criteria\n",
    "\n",
    "def count_sentences(data):\n",
    "    sentences = sent_tokenize(sample_data)\n",
    "    return(len(sentences))"
   ]
  },
  {
   "cell_type": "code",
   "execution_count": 21,
   "metadata": {
    "collapsed": true
   },
   "outputs": [],
   "source": [
    "\n",
    "# Function to detect third criteria\n",
    "\n",
    "def count_char(word):\n",
    "    return(len(word))"
   ]
  },
  {
   "cell_type": "code",
   "execution_count": 24,
   "metadata": {
    "collapsed": true
   },
   "outputs": [],
   "source": [
    "# Function to detect second criteria\n",
    "\n",
    "def count_words(line):\n",
    "    pattern = RegexpTokenizer(r'[^\\n\\[\\d{1,2}\\]]\\w+')\n",
    "    words = pattern.tokenize(line)\n",
    "    return(len(words))"
   ]
  },
  {
   "cell_type": "markdown",
   "metadata": {},
   "source": [
    "### Calling Functions"
   ]
  },
  {
   "cell_type": "code",
   "execution_count": 22,
   "metadata": {},
   "outputs": [
    {
     "name": "stdout",
     "output_type": "stream",
     "text": [
      "Total sentences in the article =  15\n"
     ]
    }
   ],
   "source": [
    "# Use the function created earlier to detect the first criteria\n",
    "print(\"Total sentences in the article = \", count_sentences(sample_data))"
   ]
  },
  {
   "cell_type": "code",
   "execution_count": 25,
   "metadata": {},
   "outputs": [
    {
     "name": "stdout",
     "output_type": "stream",
     "text": [
      "Sentence no. 1 exceeds 15 words\n",
      "Sentence no. 1 exceeds 15 words\n",
      "Sentence no. 1 exceeds 15 words\n",
      "Sentence no. 1 exceeds 15 words\n",
      "Sentence no. 1 exceeds 15 words\n",
      "Sentence no. 1 exceeds 15 words\n",
      "Sentence no. 1 exceeds 15 words\n",
      "Sentence no. 1 exceeds 15 words\n",
      "Sentence no. 1 exceeds 15 words\n",
      "Sentence no. 1 exceeds 15 words\n"
     ]
    }
   ],
   "source": [
    "# Use the function created earlier to detect the second criteria\n",
    "i=1\n",
    "\n",
    "for line in sent_tokenize(sample_data):\n",
    "    if(count_words(line) > 15):\n",
    "        print(\"Sentence no.\", i, \"exceeds 15 words\")"
   ]
  },
  {
   "cell_type": "code",
   "execution_count": 27,
   "metadata": {},
   "outputs": [
    {
     "name": "stdout",
     "output_type": "stream",
     "text": [
      "\" electromechanical \" exceeds 15 characters\n",
      "\" English-speaking \" exceeds 15 characters\n"
     ]
    }
   ],
   "source": [
    "\n",
    "# Use the function created earlier to detect the third critera\n",
    "\n",
    "for line in sent_tokenize(sample_data):\n",
    "    for w in word_tokenize(line):\n",
    "        if(count_char(w) > 15):\n",
    "            print(\"\\\"\", w, \"\\\" exceeds 15 characters\")"
   ]
  },
  {
   "cell_type": "code",
   "execution_count": 29,
   "metadata": {
    "collapsed": true
   },
   "outputs": [],
   "source": [
    "sample_data2 = \"\"\"Musk was born on June 28, 1971, in Pretoria, Gauteng, South Africa,[27] the son of Maye Musk (née Haldeman), a model and dietician from Regina, Saskatchewan, Canada;[28] and Errol Musk, a South African electromechanical engineer, pilot and sailor. He has a younger brother, Kimbal (born 1972), and a younger sister, Tosca (born 1974).[28][29][30][31] His paternal grandmother was British, and he also has Pennsylvania Dutch ancestry,[32][33] and his maternal grandfather was American, from Minnesota.[34] After his parents divorced in 1980, Musk lived mostly with his father in the suburbs of Pretoria.[32]\n",
    "\n",
    "During his childhood he had an interest in reading and often did so for hours at a time.[35]\n",
    "\n",
    "At What age did Musk got interested in computing?At age 10, he developed an interest in computing with the Commodore VIC-20.[36] He taught himself computer programming at the age of 12, sold the code for a BASIC-based video game he created called Blastar, to a magazine called PC and Office Technology, for approximately $500. [37][38] A web version of the game is available online.[37][39]\n",
    "\n",
    "Musk was severely bullied throughout his childhood, and was once hospitalized when a group of boys threw him down a flight of stairs and then beat him until he lost consciousness.[40]\n",
    "\n",
    "Musk was initially educated at private schools, attending the English-speaking Waterkloof House Preparatory School. \n",
    "\n",
    "Mr. Sing helped Musk during his initial days when he was severely bullied during his childhood.\n",
    "\n",
    "Musk later graduated from Pretoria Boys High School and moved to Canada in June 1989, just before his 18th birthday,[41] after obtaining Canadian citizenship through his Canadian-born mother.[42][43] Although at the time Musk had to register to become a Canadian citizen, Bill C-37, which came into law in April of 2009, effectively made his Canadian citizenship retroactive to his birth since he was born in the first generation abroad to a Canadian-born mother. Therefore, with the law change, he is considered to have always been a Canadian citizen by birth.\"\"\""
   ]
  },
  {
   "cell_type": "code",
   "execution_count": 30,
   "metadata": {
    "collapsed": true
   },
   "outputs": [],
   "source": [
    "train_data = \"\"\"Mr. Sing likes Apple. He likes mangoes. Mr. Hard likes apples too.\"\"\""
   ]
  },
  {
   "cell_type": "code",
   "execution_count": 31,
   "metadata": {},
   "outputs": [
    {
     "name": "stdout",
     "output_type": "stream",
     "text": [
      "Total sentences in the article =  14\n"
     ]
    }
   ],
   "source": [
    "\n",
    "# Using training data to TRAIN PunktSentenceTokenizer and consider \"Mr. Sing\" as a single sentence.\n",
    "\n",
    "def count_sentences_2(data, train_data):\n",
    "    custom_tokenizer = PunktSentenceTokenizer(train_data)\n",
    "    sentences_usingPunkt = custom_tokenizer.tokenize(sample_data2)\n",
    "    return(len(sentences_usingPunkt))\n",
    "\n",
    "print(\"Total sentences in the article = \", count_sentences_2(sample_data2, train_data))"
   ]
  },
  {
   "cell_type": "code",
   "execution_count": 33,
   "metadata": {},
   "outputs": [
    {
     "name": "stdout",
     "output_type": "stream",
     "text": [
      "Sentence no. 1 exceeds 15 words\n",
      "Sentence no. 3 exceeds 15 words\n",
      "Sentence no. 4 exceeds 15 words\n",
      "Sentence no. 5 exceeds 15 words\n",
      "Sentence no. 6 exceeds 15 words\n",
      "Sentence no. 7 exceeds 15 words\n",
      "Sentence no. 9 exceeds 15 words\n",
      "Sentence no. 13 exceeds 15 words\n",
      "Sentence no. 14 exceeds 15 words\n",
      "Sentence no. 15 exceeds 15 words\n"
     ]
    }
   ],
   "source": [
    "# Use the function created earlier to detect the second criteria\n",
    "i=1\n",
    "\n",
    "for line in sent_tokenize(sample_data2):\n",
    "    if(count_words(line) > 15):\n",
    "        print(\"Sentence no.\", i, \"exceeds 15 words\")\n",
    "    i += 1"
   ]
  },
  {
   "cell_type": "code",
   "execution_count": 34,
   "metadata": {},
   "outputs": [
    {
     "name": "stdout",
     "output_type": "stream",
     "text": [
      "\" electromechanical \" exceeds 15 characters\n",
      "\" English-speaking \" exceeds 15 characters\n"
     ]
    }
   ],
   "source": [
    "\n",
    "# Use the function created earlier to detect the third critera\n",
    "\n",
    "for line in sent_tokenize(sample_data2):\n",
    "    for w in word_tokenize(line):\n",
    "        if(count_char(w) > 15):\n",
    "            print(\"\\\"\", w, \"\\\" exceeds 15 characters\")"
   ]
  }
 ],
 "metadata": {
  "kernelspec": {
   "display_name": "Python 3",
   "language": "python",
   "name": "python3"
  },
  "language_info": {
   "codemirror_mode": {
    "name": "ipython",
    "version": 3
   },
   "file_extension": ".py",
   "mimetype": "text/x-python",
   "name": "python",
   "nbconvert_exporter": "python",
   "pygments_lexer": "ipython3",
   "version": "3.6.3"
  }
 },
 "nbformat": 4,
 "nbformat_minor": 2
}
